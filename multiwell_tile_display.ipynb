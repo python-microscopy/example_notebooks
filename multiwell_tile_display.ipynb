{
 "cells": [
  {
   "cell_type": "markdown",
   "metadata": {},
   "source": [
    "# Multiwell Tile Display\n",
    "### View multiple tile acquisition series in the tileviewer\n",
    "\n",
    "In the following cell,\n",
    "\n",
    "1. Edit the `output_directory` to be where we should build the 'ImagePyramid' multi-level image. Note that this directory is both a destination and a name (will be created if it doesn't exist) and *may become quite large* (larger than sum of ImagePyramids for individual tile series)\n",
    "\n",
    "2. Edit the `series_glob_pattern` to find your series on the cluster. Alternatively, enter your series manually as a list in `tile_series`.\n",
    "\n",
    "Run the cell, and if the expected number of output series is displayed, run the whole notebook.\n",
    "Upon completion of the ImagePyramid a tileviewer will be opened in your default webbrowser.\n",
    "\n",
    "### Notes\n",
    "- we assume tile series are on a cluster, as '.pcs' files (spooled as pzf files)\n",
    "- this computer must have PYME installed, and be connected to that cluster\n",
    "- The concatenated datasource used in this will never be itself saved to disk, but the directories and files supporting the ImagePyramid we display in the tileviewer will be saved to `output_directory` and may be large (for example: using 96 series, each about 400 pixel diameter and spaced on a 9 mm grid [typical 96 well plate], the resulting directory takes up 15.5 GB)"
   ]
  },
  {
   "cell_type": "code",
   "execution_count": 1,
   "metadata": {
    "tags": []
   },
   "outputs": [
    {
     "name": "stdout",
     "output_type": "stream",
     "text": [
      "8 tile series selected\n"
     ]
    }
   ],
   "source": [
    "from PYME.IO import clusterIO\n",
    "output_directory = '/media/smeagol/SSD/20201229_EMC0606S2'\n",
    "series_glob_pattern = 'Bergamot/2020_12_29/EMC0606S2/0*/*.pcs'\n",
    "\n",
    "tile_series = ['pyme-cluster:///' + s for s in clusterIO.cglob(series_glob_pattern)]\n",
    "print('%d tile series selected' % len(tile_series))"
   ]
  },
  {
   "cell_type": "code",
   "execution_count": 2,
   "metadata": {
    "tags": []
   },
   "outputs": [],
   "source": [
    "from PYME.IO import MetaDataHandler\n",
    "from PYME.Analysis import tile_pyramid\n",
    "from PYME.IO.image import ImageStack\n",
    "from PYME.IO.DataSources import ClusterPZFDataSource, BaseDataSource\n",
    "import numpy as np\n",
    "from PYME.Analysis.tile_pyramid import get_position_from_events\n",
    "import subprocess\n",
    "import sys\n",
    "import time\n",
    "import requests\n",
    "import os\n",
    "\n",
    "class ConcatenatedDataSource(BaseDataSource.BaseDataSource):\n",
    "    moduleName = 'booyah'\n",
    "    def __init__(self, datasource_list):\n",
    "        self._datasources = datasource_list\n",
    "        self._n_datasources = len(self._datasources)\n",
    "        self._n_frames = np.zeros(self._n_datasources, dtype=int)\n",
    "        \n",
    "        for ind in range(self._n_datasources):\n",
    "            # fixme - care about startat? all zero for my spooled series\n",
    "            self._n_frames[ind] = self._datasources[ind].shape[2]\n",
    "        \n",
    "        self._n_frames_total = self._n_frames.sum()\n",
    "        \n",
    "        self._indices = np.zeros(self._n_frames_total, \n",
    "                                 dtype=[('series', int), ('frame', int)])\n",
    "        self._positions = np.zeros(self._n_frames_total,\n",
    "                                   dtype=[('x', float), ('y', float)])\n",
    "\n",
    "        start = 0\n",
    "        for ind in range(self._n_datasources):\n",
    "            self._indices[start:start + self._n_frames[ind]]['series'] = ind \n",
    "            frames = np.arange(self._n_frames[ind], dtype=int)\n",
    "            self._indices[start:start + self._n_frames[ind]]['frame'] = frames\n",
    "            \n",
    "            x_map, y_map = get_position_from_events(self._datasources[ind].getEvents(),\n",
    "                                                    self._datasources[ind].mdh)\n",
    "            self._positions['x'][start:start + self._n_frames[ind]] = x_map(frames)\n",
    "            self._positions['y'][start:start + self._n_frames[ind]] = y_map(frames)\n",
    "            start += self._n_frames[ind]\n",
    "        \n",
    "        self.mdh = MetaDataHandler.NestedClassMDHandler()\n",
    "        self.mdh.update(self._datasources[0].mdh)\n",
    "        \n",
    "        self.fshape = None\n",
    "    \n",
    "    def getSlice(self, ind):\n",
    "        ds_ind, frame_ind = self._indices[ind]['series'], self._indices[ind]['frame']\n",
    "        return self._datasources[ds_ind].getSlice(frame_ind)\n",
    "\n",
    "    def getSliceShape(self):\n",
    "        if self.fshape is None:\n",
    "            self.fshape = self.getSlice(0).shape\n",
    "        return self.fshape\n",
    "        \n",
    "    def getNumSlices(self):\n",
    "        return self._n_frames_total\n",
    "\n",
    "    def getEvents(self):\n",
    "        return []\n",
    "        \n",
    "    def getMetadata(self):\n",
    "        return self.mdh"
   ]
  },
  {
   "cell_type": "code",
   "execution_count": 3,
   "metadata": {
    "tags": [
     "outputPrepend"
    ]
   },
   "outputs": [],
   "source": [
    "# build up our hacked/mega datasource\n",
    "datasources = []\n",
    "for series in tile_series:\n",
    "    datasources.append(ClusterPZFDataSource.DataSource(series))\n",
    "\n",
    "ultron_the_supersource = ConcatenatedDataSource(datasources)\n",
    "im = ImageStack(ultron_the_supersource)"
   ]
  },
  {
   "cell_type": "code",
   "execution_count": 4,
   "metadata": {},
   "outputs": [
    {
     "name": "stderr",
     "output_type": "stream",
     "text": [
      "DEBUG:PYME.Analysis.tile_pyramid:Adding base tiles ...\n",
      "DEBUG:PYME.Analysis.tile_pyramid:Added base tiles in 537.786810s\n",
      "DEBUG:PYME.Analysis.tile_pyramid:0.0010652542114257812\n",
      "DEBUG:PYME.Analysis.tile_pyramid:Updating pyramid ...\n",
      "DEBUG:PYME.Analysis.tile_pyramid:136.2429859638214\n",
      "DEBUG:PYME.Analysis.tile_pyramid:Done\n"
     ]
    },
    {
     "data": {
      "text/plain": [
       "<PYME.Analysis.tile_pyramid.ImagePyramid at 0x7f58d860ca20>"
      ]
     },
     "execution_count": 4,
     "metadata": {},
     "output_type": "execute_result"
    }
   ],
   "source": [
    "tile_pyramid.tile_pyramid(output_directory, im.data, im.data._positions['x'], im.data._positions['y'], im.data.mdh, dark=im.data.mdh['Camera.ADOffset'])"
   ]
  },
  {
   "cell_type": "code",
   "execution_count": 5,
   "metadata": {},
   "outputs": [],
   "source": [
    "\n",
    "if not os.path.isabs(output_directory):\n",
    "    # TODO - should we be doing the `.isabs()` check on the parent directory instead?\n",
    "    from PYME.IO.FileUtils import nameUtils\n",
    "    tiledir = nameUtils.getFullFilename(output_directory)\n",
    "\n",
    "try:  # if we already have a tileviewer serving, change the directory\n",
    "    requests.get('http://127.0.0.1:8979/set_tile_source?tile_dir=%s' % output_directory)\n",
    "except requests.ConnectionError:  # start a new process\n",
    "    try:\n",
    "        pargs = {'creationflags': subprocess.CREATE_NEW_CONSOLE}\n",
    "    except AttributeError:  # not on windows\n",
    "        pargs = {'shell': True}\n",
    "    \n",
    "    subprocess.Popen('%s -m PYME.tileviewer.tileviewer %s' % (sys.executable, output_directory), **pargs)\n",
    "    time.sleep(3)"
   ]
  },
  {
   "cell_type": "code",
   "execution_count": 6,
   "metadata": {},
   "outputs": [
    {
     "data": {
      "text/html": [
       "<iframe src=\"http://127.0.0.1:8979/\" width=\"1200\" height=\"1000\"></iframe>\n"
      ],
      "text/plain": [
       "<IPython.core.display.HTML object>"
      ]
     },
     "metadata": {},
     "output_type": "display_data"
    }
   ],
   "source": [
    "%%html\n",
    "<iframe src=\"http://127.0.0.1:8979/\" width=\"1200\" height=\"1000\"></iframe>"
   ]
  }
 ],
 "metadata": {
  "kernelspec": {
   "display_name": "Python 3",
   "language": "python",
   "name": "python3"
  },
  "language_info": {
   "codemirror_mode": {
    "name": "ipython",
    "version": 3
   },
   "file_extension": ".py",
   "mimetype": "text/x-python",
   "name": "python",
   "nbconvert_exporter": "python",
   "pygments_lexer": "ipython3",
   "version": "3.6.9"
  }
 },
 "nbformat": 4,
 "nbformat_minor": 2
}
